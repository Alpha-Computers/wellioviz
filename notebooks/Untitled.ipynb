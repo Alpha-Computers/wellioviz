{
 "cells": [
  {
   "cell_type": "code",
   "execution_count": 1,
   "metadata": {},
   "outputs": [],
   "source": [
    "from IPython.core.display import HTML"
   ]
  },
  {
   "cell_type": "code",
   "execution_count": 3,
   "metadata": {},
   "outputs": [],
   "source": [
    "test_word = \"hello  world\""
   ]
  },
  {
   "cell_type": "code",
   "execution_count": 4,
   "metadata": {},
   "outputs": [
    {
     "data": {
      "application/javascript": [
       "alert('Hello, hello  world ')"
      ],
      "text/plain": [
       "<IPython.core.display.Javascript object>"
      ]
     },
     "execution_count": 4,
     "metadata": {},
     "output_type": "execute_result"
    }
   ],
   "source": [
    "from IPython.core.display import Javascript\n",
    "Javascript(\"alert('Hello, \"+test_word+\" ')\")"
   ]
  },
  {
   "cell_type": "code",
   "execution_count": 5,
   "metadata": {},
   "outputs": [
    {
     "name": "stderr",
     "output_type": "stream",
     "text": [
      "/home/jgosses82/miniconda3/envs/wellio_Viz.js/lib/python3.7/site-packages/ipykernel_launcher.py:2: DeprecationWarning: Traits should be given as instances, not types (for example, `Int()`, not `Int`). Passing types is deprecated in traitlets 4.1.\n",
      "  \n"
     ]
    }
   ],
   "source": [
    "import ipywidgets as widgets\n",
    "class MapboxWidget(widgets.DOMWidget):\n",
    "    from traitlets import Dict, Unicode\n",
    "    _view_name = Unicode('MapboxGLView').tag(sync=True)\n",
    "    _view_module = Unicode('mapboxglModule').tag(sync=True)\n",
    "    _view_module_version = Unicode('0.1.0').tag(sync=True)\n",
    "    value = Dict({\"my_key\": \"Hello\"}).tag(sync=True)\n",
    "    def create(self):\n",
    "        from IPython.core.display import Javascript\n",
    "        return Javascript(\"\"\"\n",
    "            require.undef('mapboxglModule');\n",
    "            define('mapboxglModule', [\"@jupyter-widgets/base\"], widgets => {\n",
    "            let MapboxGLView = widgets.DOMWidgetView.extend({\n",
    "                    defaults: _.extend({}, widgets.DOMWidgetModel.prototype.defaults, { value: '' }),\n",
    "                    render: function() {\n",
    "                        this.value_changed();\n",
    "                        this.model.on('change:value', this.value_changed, this);\n",
    "                    },\n",
    "            value_changed: function() {\n",
    "                        this.el.textContent = this.model.get('value').my_key;\n",
    "                    },\n",
    "                });\n",
    "            return {\n",
    "                    MapboxGLView,\n",
    "                };\n",
    "            });\n",
    "        \"\"\")"
   ]
  },
  {
   "cell_type": "code",
   "execution_count": null,
   "metadata": {},
   "outputs": [],
   "source": []
  }
 ],
 "metadata": {
  "kernelspec": {
   "display_name": "Python 3",
   "language": "python",
   "name": "python3"
  },
  "language_info": {
   "codemirror_mode": {
    "name": "ipython",
    "version": 3
   },
   "file_extension": ".py",
   "mimetype": "text/x-python",
   "name": "python",
   "nbconvert_exporter": "python",
   "pygments_lexer": "ipython3",
   "version": "3.7.5"
  }
 },
 "nbformat": 4,
 "nbformat_minor": 2
}
